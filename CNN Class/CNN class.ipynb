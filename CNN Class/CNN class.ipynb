{
 "cells": [
  {
   "cell_type": "markdown",
   "metadata": {
    "id": "68xDoDHFDDVb"
   },
   "source": [
    "CNN Class Model Team 2 Project\n",
    "\n"
   ]
  },
  {
   "cell_type": "code",
   "execution_count": 11,
   "metadata": {
    "id": "QL82-H0qt098",
    "tags": []
   },
   "outputs": [],
   "source": [
    "import torch\n",
    "import torchvision\n",
    "from torchvision import datasets\n",
    "import torchvision.transforms as transforms\n",
    "from PIL import Image\n",
    "from torch.utils.data import DataLoader, TensorDataset, RandomSampler\n",
    "import numpy as np"
   ]
  },
  {
   "cell_type": "code",
   "execution_count": 45,
   "metadata": {
    "id": "jWM_COptRF7v",
    "tags": []
   },
   "outputs": [
    {
     "name": "stdout",
     "output_type": "stream",
     "text": [
      "<torch.utils.data.dataloader.DataLoader object at 0x14d7159437c0>\n"
     ]
    }
   ],
   "source": [
    "# Comment 0: define transformation that you wish to apply on image\n",
    "data_transforms = transforms.Compose([transforms.ToTensor(),\n",
    "     transforms.Resize((64,64))])\n",
    "\n",
    "# Creating random data/images \n",
    "set = []\n",
    "def random_img_maker(num_images):\n",
    "    set = []\n",
    "    for images in range(num_images):\n",
    "        rand_img = np.random.randint(0, 256, (128, 128, 3), dtype =np.uint8)\n",
    "        rand_img = data_transforms(Image.fromarray(rand_img))\n",
    "        \n",
    "        set.append(rand_img) \n",
    "    return set\n",
    "\n",
    "trainset = random_img_maker(100)\n",
    "testset = random_img_maker(50)\n",
    "\n",
    "# Comment 2: Using the image datasets and the transforms, define the dataloaders\n",
    "train_sampler = torch.utils.data.RandomSampler(trainset)\n",
    "trainloader = torch.utils.data.DataLoader(trainset, batch_size=2, sampler = train_sampler, shuffle=False, num_workers=2)\n",
    "\n",
    "testloader = torch.utils.data.DataLoader(testset, batch_size=2, shuffle=False, num_workers=2)\n",
    "\n",
    "classes = ('S.aureus', 'E.coli', 'B.subtilis')\n",
    "print(testloader)"
   ]
  },
  {
   "cell_type": "code",
   "execution_count": 39,
   "metadata": {
    "tags": []
   },
   "outputs": [
    {
     "name": "stdout",
     "output_type": "stream",
     "text": [
      "Example Test set: tensor([[[0.4363, 0.8010, 0.7176,  ..., 0.4647, 0.5667, 0.4049],\n",
      "         [0.2569, 0.7990, 0.3931,  ..., 0.6147, 0.5627, 0.2882],\n",
      "         [0.4363, 0.6294, 0.6118,  ..., 0.6284, 0.5843, 0.2431],\n",
      "         ...,\n",
      "         [0.2951, 0.5392, 0.4343,  ..., 0.5902, 0.5304, 0.6245],\n",
      "         [0.3314, 0.3157, 0.2922,  ..., 0.6775, 0.4225, 0.6216],\n",
      "         [0.5843, 0.4265, 0.6843,  ..., 0.3951, 0.4020, 0.7294]],\n",
      "\n",
      "        [[0.4657, 0.4284, 0.5029,  ..., 0.5078, 0.6382, 0.5186],\n",
      "         [0.3127, 0.3873, 0.4647,  ..., 0.4892, 0.6353, 0.6118],\n",
      "         [0.6971, 0.4902, 0.2588,  ..., 0.5784, 0.4725, 0.5882],\n",
      "         ...,\n",
      "         [0.7235, 0.3833, 0.7137,  ..., 0.3627, 0.5225, 0.5343],\n",
      "         [0.5216, 0.6314, 0.7235,  ..., 0.4020, 0.4324, 0.4804],\n",
      "         [0.5794, 0.4539, 0.5294,  ..., 0.5961, 0.3931, 0.6647]],\n",
      "\n",
      "        [[0.5716, 0.6520, 0.3647,  ..., 0.4314, 0.6363, 0.5892],\n",
      "         [0.4441, 0.3196, 0.2275,  ..., 0.3471, 0.8343, 0.6373],\n",
      "         [0.4647, 0.5324, 0.3853,  ..., 0.3412, 0.5441, 0.4608],\n",
      "         ...,\n",
      "         [0.3824, 0.4490, 0.5392,  ..., 0.6412, 0.5353, 0.1755],\n",
      "         [0.6931, 0.4500, 0.5147,  ..., 0.5176, 0.4343, 0.2020],\n",
      "         [0.3569, 0.5745, 0.4324,  ..., 0.5647, 0.5500, 0.6196]]])\n",
      "Example Train set: tensor([[[0.4676, 0.3853, 0.7265,  ..., 0.4990, 0.5990, 0.3863],\n",
      "         [0.4461, 0.1784, 0.1824,  ..., 0.5500, 0.4765, 0.5608],\n",
      "         [0.3578, 0.4118, 0.6765,  ..., 0.5922, 0.5294, 0.6716],\n",
      "         ...,\n",
      "         [0.8157, 0.5235, 0.4333,  ..., 0.5412, 0.2392, 0.4873],\n",
      "         [0.3882, 0.3931, 0.1725,  ..., 0.2598, 0.6186, 0.4931],\n",
      "         [0.4029, 0.6667, 0.5529,  ..., 0.1304, 0.6343, 0.3147]],\n",
      "\n",
      "        [[0.7029, 0.4441, 0.5500,  ..., 0.4098, 0.4941, 0.2863],\n",
      "         [0.6451, 0.3343, 0.5324,  ..., 0.5775, 0.4324, 0.6520],\n",
      "         [0.6373, 0.5078, 0.2676,  ..., 0.7049, 0.5088, 0.5108],\n",
      "         ...,\n",
      "         [0.5667, 0.3569, 0.3225,  ..., 0.4863, 0.6088, 0.3794],\n",
      "         [0.4765, 0.4412, 0.7549,  ..., 0.5206, 0.5333, 0.2471],\n",
      "         [0.4608, 0.3725, 0.3157,  ..., 0.3882, 0.4529, 0.4775]],\n",
      "\n",
      "        [[0.8500, 0.2853, 0.5225,  ..., 0.4029, 0.3235, 0.3794],\n",
      "         [0.5843, 0.2902, 0.6529,  ..., 0.5196, 0.5814, 0.3441],\n",
      "         [0.7657, 0.4578, 0.3412,  ..., 0.4853, 0.6010, 0.2980],\n",
      "         ...,\n",
      "         [0.3461, 0.4922, 0.3167,  ..., 0.3912, 0.8265, 0.2902],\n",
      "         [0.5176, 0.5784, 0.1961,  ..., 0.4784, 0.6775, 0.4706],\n",
      "         [0.3069, 0.5255, 0.5441,  ..., 0.5441, 0.5765, 0.6020]]])\n"
     ]
    }
   ],
   "source": [
    "print('Example Test set: ' + str(testset[0]))\n",
    "print('Example Train set: ' + str(trainset[0]))"
   ]
  },
  {
   "cell_type": "markdown",
   "metadata": {
    "id": "rMXxiXnhF9xV"
   },
   "source": [
    "CNN Model"
   ]
  },
  {
   "cell_type": "code",
   "execution_count": 40,
   "metadata": {
    "id": "P1EoIBX1VClo",
    "tags": []
   },
   "outputs": [
    {
     "name": "stdout",
     "output_type": "stream",
     "text": [
      "tensor([[-0.0130,  0.2555,  0.0379, -0.2074, -0.0712,  0.1499]],\n",
      "       grad_fn=<AddmmBackward0>)\n"
     ]
    }
   ],
   "source": [
    "import torch\n",
    "import torch.nn as nn\n",
    "import torch.nn.functional as F\n",
    "\n",
    "class Net(nn.Module):\n",
    "    def __init__(self):\n",
    "        super(Net, self).__init__()\n",
    "\n",
    "        self.conv1 = nn.Conv2d(in_channels = 3, out_channels = 16, kernel_size = 3, padding = 1)\n",
    "\n",
    "        self.conv2 = nn.Conv2d(in_channels = 16, out_channels = 32, kernel_size = 3, padding = 1)\n",
    "\n",
    "        self.convert = nn.Conv2d(in_channels = 3, out_channels= 32, kernel_size = 1, stride = 2)\n",
    "        self.pool = nn.MaxPool2d(kernel_size = 2, stride = 2)\n",
    "\n",
    "        self.relu = nn.ReLU()\n",
    "\n",
    "        self.fc1 = nn.Linear(32 * 16 * 16, 128)                                \n",
    "        self.fc2 = nn.Linear(128, 64)\n",
    "\n",
    "        self.fc3 = nn.Linear(64, 6)\n",
    "\n",
    "\n",
    "    def forward(self, x):\n",
    "        # Save the input for the skip connection\n",
    "        residual = x\n",
    "        #print(self.convert(residual).shape)\n",
    "\n",
    "        x = self.conv1(x)    # initial layer\n",
    "\n",
    "        x = self.relu(x)\n",
    "\n",
    "        x = self.pool(x)\n",
    "\n",
    "        x = self.conv2(x)   # second conv\n",
    "\n",
    "        x = (x) + self.convert(residual)\n",
    "\n",
    "        x = self.relu(x)\n",
    "\n",
    "        x = self.pool(x)\n",
    "\n",
    "        x = x.view(-1, 32 * 16 * 16)\n",
    "\n",
    "        # Fully connected layers\n",
    "        x = self.fc1(x)\n",
    "\n",
    "        x = self.fc2(x)\n",
    "\n",
    "        x = self.fc3(x)\n",
    "\n",
    "        return x\n",
    "\n",
    "net = Net()\n",
    "\n",
    "# Instantiate the network\n",
    "test_net = Net()\n",
    "\n",
    "output = test_net(trainset[0])\n",
    "\n",
    "# Print the output\n",
    "print(output)\n"
   ]
  },
  {
   "cell_type": "code",
   "execution_count": 41,
   "metadata": {
    "id": "KdXsTb2JVIfv",
    "tags": []
   },
   "outputs": [],
   "source": [
    "criterion =  nn.CrossEntropyLoss()\n",
    "sgd = torch.optim.SGD(net.parameters(), lr = 0.005, momentum = 0.9)\n",
    "\n",
    "# load net to device\n",
    "device = torch.device('cuda')"
   ]
  },
  {
   "cell_type": "code",
   "execution_count": 42,
   "metadata": {
    "id": "D4tYy2mTVLOn",
    "tags": []
   },
   "outputs": [],
   "source": [
    "def train_random_sample(net, optimizer, device, trainloader):\n",
    "\n",
    "    net.train()\n",
    "    net.to(device)\n",
    "    \n",
    "    for epoch in range(10): \n",
    "\n",
    "        running_loss = 0.0\n",
    "        for i, data in enumerate(trainloader):\n",
    "\n",
    "            first = data[0].to(device)\n",
    "            truth = data[1].to(device)\n",
    "\n",
    "            optimizer.zero_grad()\n",
    "            forward_pass = net(first)\n",
    "\n",
    "            # loss\n",
    "            loss = criterion(forward_pass, truth)\n",
    "            # back prop\n",
    "            loss.backward()\n",
    "            # optimze with the descent\n",
    "            optimizer.step()\n",
    "\n",
    "            # print statistics\n",
    "            running_loss += loss.item()\n",
    "            if i % 25 == 24:  # print every 5 mini-batches\n",
    "                print('[%d, %5d] loss: %.3f' %\n",
    "                      (epoch + 1, i + 1, running_loss / 25))\n",
    "                running_loss = 0.0\n",
    "\n",
    "    print('Finished Training')\n",
    "    return net\n"
   ]
  },
  {
   "cell_type": "code",
   "execution_count": 44,
   "metadata": {
    "colab": {
     "base_uri": "https://localhost:8080/"
    },
    "id": "ljgyOtpVfxUJ",
    "outputId": "cf9b1c77-d84c-4200-9ed2-6097519b5628",
    "tags": []
   },
   "outputs": [],
   "source": [
    "# kick off the training\n",
    "net = train_random_sample(net, sgd, device, trainloader)\n"
   ]
  }
 ],
 "metadata": {
  "accelerator": "GPU",
  "colab": {
   "gpuType": "T4",
   "provenance": []
  },
  "kernelspec": {
   "display_name": "Python 3 (ipykernel)",
   "language": "python",
   "name": "python3"
  },
  "language_info": {
   "codemirror_mode": {
    "name": "ipython",
    "version": 3
   },
   "file_extension": ".py",
   "mimetype": "text/x-python",
   "name": "python",
   "nbconvert_exporter": "python",
   "pygments_lexer": "ipython3",
   "version": "3.10.12"
  }
 },
 "nbformat": 4,
 "nbformat_minor": 4
}
